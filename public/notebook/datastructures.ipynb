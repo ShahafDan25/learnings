{
 "cells": [
  {
   "cell_type": "markdown",
   "metadata": {},
   "source": [
    "# Data Structures\n",
    "- #### Lists\n",
    "- #### Linked Lists\n",
    "- #### Stack\n",
    "- #### Queue\n",
    "- #### Hashmap\n",
    "- #### Heap\n",
    "- #### Trees\n",
    "- #### Graph\n",
    "- #### Matrix (2-D Array)\n"
   ]
  },
  {
   "cell_type": "markdown",
   "metadata": {},
   "source": [
    "## Lists\n",
    "\n",
    "- Python lists are linear data structures. They're implemenetd in python in a dynamic matter, which means that adding or removing elements from it will automatically adjust the backing store that holds these elements by allocating or releasing memory.\n",
    "- Python lists can hold any arbitrary elements regardless of its type (unlike other languages), even functions. However, this means that the list's data is less packed and hence requires more space.\n",
    "- Code example includes a built in list and its methods in python:"
   ]
  },
  {
   "cell_type": "code",
   "execution_count": 1,
   "metadata": {},
   "outputs": [
    {
     "name": "stdout",
     "output_type": "stream",
     "text": [
      "[1, 1, 1, 2, 3, 4, 5, 6, 6, 7, 9, 12]\n"
     ]
    }
   ],
   "source": [
    "numbers = [1, 2, 3, 4, 5, 7, 8, 12] #list of numbers\n",
    "strings = [\"hello\", \"python\", \"world\"] #list of strings\n",
    "bools = [True, False, True, True] #list of booleans\n",
    "mixed = [False, 5, 6, [\"Hello\", \"World\", 5], \"Some Lists\", True, 12] #list of mixed types\n",
    "lists = [numbers, strings, bools, mixed] #list of lists\n",
    "\n",
    "#use numbers for the example\n",
    "numbers.append(1) #adds element at the end of the list -> [1, 2, 3, 4, 5, 7, 8, 12, 1]\n",
    "copynumbers = numbers.copy() #returns a copy of the the list -> [1, 2, 3, 4, 5, 7, 8, 12, 1]\n",
    "copynumbers.clear() #removes all ementes from the list -> []\n",
    "numbers.count(1) #returns count of specified element in the list -> 2\n",
    "numbers.extend([1, 3, 6, 9]) #extends the list with the specified value/s -> [1, 2, 3, 4, 5, 7, 8, 12, 1, 1, 3, 6, 9]\n",
    "numbers.index(3) #returns the index of the first specified element in the list -> 2\n",
    "numbers.insert(4, 6) #inserts the element specified (6) at the specified index (4) -> [1, 2, 3, 4, 6, 5, 7, 8, 12, 1, 1, 3, 6, 9]\n",
    "numbers.pop(7) #remove the element at the specified index -> [1, 2, 3, 4, 6, 5, 7, 12, 1, 1, 3, 6, 9]\n",
    "numbers.remove(3) #remove the first element of the specified value -> [1, 2, 4, 6, 5, 7, 12, 1, 1, 3, 6, 9]\n",
    "numbers.reverse() #reverse the list -> [9, 6, 3, 1, 1, 12, 7, 5, 6, 4, 2, 1]\n",
    "numbers.sort() #sort the list -> [1, 1, 1, 2, 3, 4, 5, 6, 6, 7, 9, 12]\n",
    "\n",
    "print(numbers)"
   ]
  },
  {
   "cell_type": "markdown",
   "metadata": {},
   "source": [
    "## Linked Lists\n"
   ]
  },
  {
   "cell_type": "code",
   "execution_count": 2,
   "metadata": {},
   "outputs": [
    {
     "name": "stdout",
     "output_type": "stream",
     "text": [
      "[0, 1, 2, 3, 4]\n"
     ]
    }
   ],
   "source": [
    "print(list(range(0, 5)))"
   ]
  },
  {
   "cell_type": "markdown",
   "metadata": {},
   "source": [
    "## Trees"
   ]
  },
  {
   "cell_type": "code",
   "execution_count": null,
   "metadata": {},
   "outputs": [],
   "source": [
    "class BinaryTree:\n",
    "    def __init__(self, data):\n",
    "        self.data = data\n",
    "        self.left = None\n",
    "        self.right = None\n",
    "\n",
    "\n",
    "def insert(root, value):\n",
    "    if root == None:\n",
    "        return BinaryTree(value)\n",
    "    if value < root.data:\n",
    "        root.left = insert(root.left, value)\n",
    "    else: #value >= root.data\n",
    "        root.right = insert(root.right, value)\n",
    "    \n",
    "    return root\n",
    "\n",
    "\n",
    "# BUILD TREE\n",
    "head_value = 25\n",
    "values = [10, 14, 22, 39, 33, 24, 36, 28, 43, 49, 3, 7, 47, 21, 17, 15, 31, 12]\n",
    "root = insert(None, head_value)\n",
    "for i in values:\n",
    "    root = insert(root, i)\n",
    "\n",
    "#IMPLEMENT: \n",
    "def remove(root, value):\n",
    "    pass\n",
    "\n"
   ]
  },
  {
   "cell_type": "code",
   "execution_count": null,
   "metadata": {},
   "outputs": [],
   "source": [
    "def preorder(root):\n",
    "    if root == None:\n",
    "        return\n",
    "    preorder(root.left)\n",
    "    preorder(root.right)\n",
    "    print(root.data)\n",
    "\n",
    "def postorder(root):\n",
    "    if root == None:\n",
    "        return\n",
    "    print(root.data)\n",
    "    postorder(root.left)\n",
    "    postorder(root.right)\n",
    "\n",
    "def inorder(root):\n",
    "    if root == None:\n",
    "        return\n",
    "    inorder(root.left)\n",
    "    print(root.data)\n",
    "    inorder(root.right)"
   ]
  },
  {
   "cell_type": "code",
   "execution_count": null,
   "metadata": {},
   "outputs": [],
   "source": [
    "def preorder(root):\n",
    "    pass\n",
    "\n",
    "def postorder(root):\n",
    "    pass\n",
    "\n",
    "def inorder(root):\n",
    "    final = []\n",
    "    stack = []\n",
    "    main = root\n",
    "    while main != None or stack != []:\n",
    "        while main != None:\n",
    "            stack.insert(0, main)\n",
    "            main = main.left\n",
    "        main = stack[0]\n",
    "        stack = stack[1:]\n",
    "        final.extend([main.data])\n",
    "        main = main.right\n",
    "    return final"
   ]
  }
 ],
 "metadata": {
  "kernelspec": {
   "display_name": "Python 3.9.13 64-bit",
   "language": "python",
   "name": "python3"
  },
  "language_info": {
   "codemirror_mode": {
    "name": "ipython",
    "version": 3
   },
   "file_extension": ".py",
   "mimetype": "text/x-python",
   "name": "python",
   "nbconvert_exporter": "python",
   "pygments_lexer": "ipython3",
   "version": "3.9.13"
  },
  "orig_nbformat": 4,
  "vscode": {
   "interpreter": {
    "hash": "b0fa6594d8f4cbf19f97940f81e996739fb7646882a419484c72d19e05852a7e"
   }
  }
 },
 "nbformat": 4,
 "nbformat_minor": 2
}
