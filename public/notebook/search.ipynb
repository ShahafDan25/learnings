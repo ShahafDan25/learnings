{
 "cells": [
  {
   "cell_type": "markdown",
   "metadata": {},
   "source": [
    "# Searching Algorithms\n",
    "- ### Linear Search\n",
    "- ### Binary Search\n",
    "- ### Jump Search\n",
    "- ### Interpolation Search\n",
    "- ### Exponential Search"
   ]
  },
  {
   "cell_type": "markdown",
   "metadata": {},
   "source": [
    "## Linear Search\n",
    "- **Returns**: If found, return index of the element. Otherwise return -1\n",
    "- **Time Complexity**: O(n)\n",
    "\n",
    "- **Description**: Go through the *items* list by indexes order until the first item to match the *target* matches\n"
   ]
  },
  {
   "cell_type": "code",
   "execution_count": 10,
   "metadata": {},
   "outputs": [],
   "source": [
    "def linear_search(items, target):\n",
    "    for i in range(len(items)):\n",
    "        if items[i] == target:\n",
    "            return i\n",
    "    return -1 #element not found"
   ]
  },
  {
   "cell_type": "markdown",
   "metadata": {},
   "source": [
    "## Binary Search\n",
    "- **Assume**: Input array *items* is sorted\n",
    "- **Returns**: If found, return index of the element. Otherwise return -1\n",
    "- **Time Complexity**: O(log n)\n",
    "\n",
    "- **Description**: Divides *items* to two halves in every iteration. Check if the array's mid point is bigger/smaller than the *target* element. If the mid point is smaller, that means the target item is in the half of the array with larger items, if the mid point is greater than the *target* element, then the target item is in the half of the array with smaller values (since the array is sorted). Repeat the loop with properly adjusting the new array with every iteration until the mid point is either not found (-1) or the element is found (as the array's size will shrink to 1 as we iterate)"
   ]
  },
  {
   "cell_type": "code",
   "execution_count": 34,
   "metadata": {},
   "outputs": [],
   "source": [
    "def binary_search(items, target):\n",
    "    left, mid, right = 0, 0, len(items) - 1\n",
    "    while left <= right:\n",
    "        mid = left + ((right - left) // 2) # declare mid point as middle index\n",
    "        if items[mid] < target: # element is in the half with larger values, adjust low index point\n",
    "            left = mid + 1\n",
    "        elif items[mid]> target: # element is in the half with smaller values, adjust high index point\n",
    "            right = mid - 1\n",
    "        else:\n",
    "            return mid # array shrunk to size of one in which the element was found\n",
    "    return -1 #element not found\n",
    "\n",
    "def recursive_binary_search(items, target, left, right):\n",
    "    if right >= left:\n",
    "        mid = 1 + (right - left) // 2\n",
    "        if items[mid] == target:\n",
    "            return mid\n",
    "        elif items[mid] > target:\n",
    "            return recursive_binary_search(items, target, left, mid - 1)\n",
    "        else: #items[mid] < target\n",
    "            return recursive_binary_search(items, target, mid + 1, right)\n",
    "    else:\n",
    "        return -1"
   ]
  },
  {
   "cell_type": "markdown",
   "metadata": {},
   "source": [
    "## Jump Search\n",
    "- **Assume**: Input array *items* is sorted\n",
    "- **Returns**: If found, return index of the element. Otherwise return -1\n",
    "- **Time Complexity**: O($\\sqrt{n}$)\n",
    "\n",
    "- **Description**: for an array of size n, we declare the juming block to be the square root of that number (rounded to int). Since the array is sortedm we can then search from $\\sqrt{n}$ blocks within the input array which one has a range of elements fit for the target value to be found. We then perform a linear search in that block."
   ]
  },
  {
   "cell_type": "code",
   "execution_count": 44,
   "metadata": {},
   "outputs": [],
   "source": [
    "import math\n",
    "def jump_search(items, target):\n",
    "    n = len(items)   \n",
    "    step = math.sqrt(n) # best step size is sqrt(len(items))\n",
    "    prev = 0\n",
    "    #loop to find in which block is step elements the element is / return -1 if a proper block isn't found\n",
    "    while items[int(min(step, n) - 1)] < target:\n",
    "        prev = int(step)\n",
    "        step += math.sqrt(n)\n",
    "        if prev >= n:\n",
    "            return -1\n",
    "    \n",
    "    # prev marks the first index at which the block starts: linear search in that block:\n",
    "    while (items[prev]) < target:\n",
    "        prev += 1\n",
    "        if prev == min(step, n): # reached the end of the block, hence conclude that the element isn't found\n",
    "            return -1\n",
    "    \n",
    "    if items[prev] == target: # if element is found\n",
    "        return prev\n",
    "    \n",
    "    return -1"
   ]
  },
  {
   "cell_type": "markdown",
   "metadata": {},
   "source": [
    "## Interpolation Search\n",
    "- **Assume**: Input array *items* is sorted\n",
    "- **Returns**: If found, return index of the element. Otherwise return -1\n",
    "- **Time Complexity**: O($log_2(log_2n)$)\n",
    "\n",
    "- **Description**: This search algorithm is an upgrade of Binary Search. It creates the division point (in binary search it's the mid point always) based on how close the target (to be found) element is to the first of last items in the array. For example, is the value of the key is closer to the last element (in values), interpolation search is likely to start towards the end side with larger values. Search position is determined through the following forumla:\n",
    "$$ pos = lo + [ \\frac{(x - arr[lo]) \\cdot (hi - lo))}{arr[hi] - arr[lo]} ] $$\n"
   ]
  },
  {
   "cell_type": "code",
   "execution_count": 54,
   "metadata": {},
   "outputs": [],
   "source": [
    "def interpolation_search(items, target):\n",
    "    low, high = 0, len(items) - 1\n",
    "    while True:\n",
    "        if (low <= high) and (target >= items[low]) and (target <= items[high]):\n",
    "            pos = int(low + ((high - low ) // (items[high] - items[low]) * (target - items[low])))\n",
    "            if items[pos] == target: # element found\n",
    "                return pos\n",
    "            elif items[pos] < target: # if target is larger, x is in the left subarray (greater values)\n",
    "                low = pos + 1\n",
    "            elif items[pos] > target: # if target is smaller, x is in the left subarray (lower values)\n",
    "                high = pos - 1\n",
    "        else:\n",
    "            return -1 # element not found\n"
   ]
  },
  {
   "cell_type": "markdown",
   "metadata": {},
   "source": [
    "## Exponential Search\n",
    "- **Assume**: Input array *items* is sorted\n",
    "- **Returns**: If found, return index of the element. Otherwise return -1\n",
    "- **Time Complexity**: O(log n)\n",
    "\n",
    "- **Description**: Involves two steps: find proper range in the array (subarray) where the target element is present. Then execute binary search on the found subarray. To find the proper subarray, we start by considering the subarray size to be 1 and every iteration grow it by times 2 (i *= 2: 1, 2, 4, 8, ...) in each iteration. In each iteration we check if the last (largest) element of the subarray (of any size) is not greater than the target element (that we want to find). We stop iterating and call the binary search method on the subarray once we find a subarray with the last element being larger than the target element, inw which case the subarray would be between the current multiplier and half of it (because it wasn't in the previous subarray search)\n"
   ]
  },
  {
   "cell_type": "code",
   "execution_count": 17,
   "metadata": {},
   "outputs": [],
   "source": [
    "def exponential_search(items, target):\n",
    "    if items[0] == target:\n",
    "        return 0\n",
    "    i = 1\n",
    "    while (i < len(items)) and (items[i] <= target):\n",
    "        i *= 2\n",
    "\n",
    "    return binary_search(items[i//2:min(i, len(items) - 1)], target)"
   ]
  },
  {
   "cell_type": "markdown",
   "metadata": {},
   "source": [
    "## Compare Search Methods' Running Time"
   ]
  },
  {
   "cell_type": "code",
   "execution_count": 62,
   "metadata": {},
   "outputs": [
    {
     "name": "stdout",
     "output_type": "stream",
     "text": [
      "Array of Size 30000000;\n",
      "Looking for Element 16577832;\n",
      "Found at index 4969886\n",
      "  ---------------------------------------  \n",
      "Linear Search\truns with 0.284958\n",
      "Binary Search\truns with 4.1e-05\n",
      "Jump Search\truns with 0.00067\n",
      "Interpolation Search\truns with 2.961985\n",
      "Exponential Search\truns with 5.9e-05\n"
     ]
    }
   ],
   "source": [
    "from ctypes.wintypes import tagMSG\n",
    "import time\n",
    "import numpy as np\n",
    "from numpy import random\n",
    "\n",
    "# items = random.randint(1, 10, 3) #array of 300,000 values between 1 amd 1,000,000\n",
    "items = np.sort(random.randint(1, 100000000, 30000000)) #array of 300,000 values between 1 amd 1,000,000\n",
    "target = random.choice(items)\n",
    "\n",
    "print(\"Array of Size \" + str(len(items)) + \";\\nLooking for Element \" + str(target) + \";\\nFound at index \" + str(binary_search(items, target)))\n",
    "print (\"  ---------------------------------------  \")\n",
    "\n",
    "start = time.time()\n",
    "result = linear_search(items, target)\n",
    "end = time.time()\n",
    "runtime = round(end - start, 6)\n",
    "print(\"Linear Search\" + \"\\truns with \" + str(runtime))\n",
    "\n",
    "start = time.time()\n",
    "result = binary_search(items, target)\n",
    "end = time.time()\n",
    "runtime = round(end - start, 6)\n",
    "print(\"Binary Search\" + \"\\truns with \" + str(runtime))\n",
    "\n",
    "start = time.time()\n",
    "result = jump_search(items, target)\n",
    "end = time.time()\n",
    "runtime = round(end - start, 6)\n",
    "print(\"Jump Search\" + \"\\truns with \" + str(runtime))\n",
    "\n",
    "start = time.time()\n",
    "result = interpolation_search(items, target)\n",
    "end = time.time()\n",
    "runtime = round(end - start, 6)\n",
    "print(\"Interpolation Search\" + \"\\truns with \" + str(runtime))\n",
    "\n",
    "start = time.time()\n",
    "result = exponential_search(items, target)\n",
    "end = time.time()\n",
    "runtime = round(end - start, 6)\n",
    "print(\"Exponential Search\" + \"\\truns with \" + str(runtime))\n"
   ]
  }
 ],
 "metadata": {
  "kernelspec": {
   "display_name": "Python 3.9.13 64-bit",
   "language": "python",
   "name": "python3"
  },
  "language_info": {
   "codemirror_mode": {
    "name": "ipython",
    "version": 3
   },
   "file_extension": ".py",
   "mimetype": "text/x-python",
   "name": "python",
   "nbconvert_exporter": "python",
   "pygments_lexer": "ipython3",
   "version": "3.9.13"
  },
  "orig_nbformat": 4,
  "vscode": {
   "interpreter": {
    "hash": "b0fa6594d8f4cbf19f97940f81e996739fb7646882a419484c72d19e05852a7e"
   }
  }
 },
 "nbformat": 4,
 "nbformat_minor": 2
}
