{
 "cells": [
  {
   "cell_type": "markdown",
   "metadata": {},
   "source": [
    "# Sorting Algorithms\n",
    "- #### Selection Sort\n",
    "- #### Bubble Sort\n",
    "- #### Insertiong Sort\n",
    "- #### Merge Sort\n",
    "- #### Quick Sort\n",
    "- #### Heap Sort\n",
    "- #### Counting Sort"
   ]
  },
  {
   "cell_type": "markdown",
   "metadata": {},
   "source": [
    "## Selection Sort\n",
    "- **Time Complexity**: O($n^2$)\n",
    "\n",
    "- **Description**: The algorithm searches for the smallest element in the array and then places it in the index mark, which marks the last element that has been sorted. The first minimum element found will be swapped with the first element in the array, and the second minimum in the second iteration will be swapped with the second element in the array, creating the illusation of two subarrays (one that's sorted on the left and one that is the rest of the original array in the other)"
   ]
  },
  {
   "cell_type": "code",
   "execution_count": 3,
   "metadata": {},
   "outputs": [],
   "source": [
    "def selection_sort(array):\n",
    "    for i in range(len(array)):\n",
    "        min_index = i\n",
    "        for j in range(i + 1, len(array)):\n",
    "            if array[min_index] > array[j]:\n",
    "                min_index = j\n",
    "        # Swap the found minimum element with the first element       \n",
    "        array[i], array[min_index] = array[min_index], array[i]"
   ]
  },
  {
   "cell_type": "markdown",
   "metadata": {},
   "source": [
    "## Bubble Sort\n",
    "- **Time Complexity**: O($n^2$)\n",
    "\n",
    "- **Description**: The algoirthm considers two pointers, which point to two adjacent elements in the array. The first two pointers are for the first two element. Is the second is smaller than the first (for ascending order sort) then the algorirthm would swap them and move to the second and third element. The algorithm will iterate through the entire array (O(n)) as many times as it takes (O(n) at the worst case) until no swaps occur, in which case the array has been successsfully sorted which would take at most $n^2$ iterations"
   ]
  },
  {
   "cell_type": "code",
   "execution_count": null,
   "metadata": {},
   "outputs": [],
   "source": [
    "def bubble_sort(array):\n",
    "    n = len(array)\n",
    "    for i in range(n):\n",
    "        for j in range(0, n - i - 1):\n",
    "            # Swap if the element found is greater than the next element\n",
    "            if array[j] > array[j + 1]:\n",
    "                array[j], array[j + 1] = array[j + 1], array[j]"
   ]
  },
  {
   "cell_type": "markdown",
   "metadata": {},
   "source": [
    "## Insertion Sort\n",
    "- **Time Complexity**: O($n^2$)\n",
    "\n",
    "- **Description**: The array is virtually split into a sorted and an unsorted part. Values from the unsorted part are picked and placed at the correct position in the sorted part."
   ]
  },
  {
   "cell_type": "code",
   "execution_count": 4,
   "metadata": {},
   "outputs": [],
   "source": [
    "def insertion_sort(array):\n",
    "    for i in range(1, len(array)):\n",
    "        key = array[i]\n",
    "        # Move elements of the array, that are greater than key, to one position ahead of their current position\n",
    "        j = i-1\n",
    "        while j >= 0 and key < array[j] :\n",
    "                array[j + 1] = array[j]\n",
    "                j -= 1\n",
    "        array[j + 1] = key"
   ]
  },
  {
   "cell_type": "markdown",
   "metadata": {},
   "source": [
    "## Merge Sort (Recursive)\n",
    "- **Time Complexity**: O($n \\cdot log n$)\n",
    "\n",
    "- **Description**: The method is using divide and conquer. It breaks down the array to single elements, sorts them, and merges them back together. The original array is split into two subarrays at the mid-point. Those subarrays are also split into two at their own midpoint. Each one of those subarrays is also split continuouasly and recursively until the array is either empty of contains only one element. The algorithm then begins the mergin process. It merges each split two subarrays in a sorted order by having two pointers, at the head of each subarray, and by proper comparisons build a sorted merge of the two subarrays, until the array is fully sorted from its two subarrays."
   ]
  },
  {
   "cell_type": "code",
   "execution_count": 5,
   "metadata": {},
   "outputs": [],
   "source": [
    "def merge_sort(array):\n",
    "    if len(array) > 1:     \n",
    "        mid = len(array)//2\n",
    " \n",
    "        # create sub arrays\n",
    "        subarray_left = array[:mid]\n",
    "        subarray_right = array[mid:]\n",
    " \n",
    "        # apply recursive method to both subarrays\n",
    "        merge_sort(subarray_left)\n",
    "        merge_sort(subarray_right)\n",
    " \n",
    "        i = j = k = 0\n",
    "        #create recursive-locao copies of the subarray\n",
    "        while i < len(subarray_left) and j < len(subarray_right): \n",
    "            if subarray_left[i] < subarray_right[j]:\n",
    "                array[k] = subarray_left[i]\n",
    "                i += 1\n",
    "            else:\n",
    "                array[k] = subarray_right[j]\n",
    "                j += 1\n",
    "            k += 1\n",
    " \n",
    "        # check for left over elements\n",
    "        while i < len(subarray_left):\n",
    "            array[k] = subarray_left[i]\n",
    "            i += 1\n",
    "            k += 1\n",
    " \n",
    "        while j < len(subarray_right):\n",
    "            array[k] = subarray_right[j]\n",
    "            j += 1\n",
    "            k += 1"
   ]
  },
  {
   "cell_type": "markdown",
   "metadata": {},
   "source": [
    "## Quick Sort (Recursive)\n",
    "- **Time Complexity**: O($n^2$) though faster in practice, because its inner loop can be efficiently implemented on most architectures,\n",
    "\n",
    "- **Description**: A divide and conquer algorithm. The algorithm begins by picking a pivot point (could be a random element, the first or last, or oven the median element) which is the last element in this code example. Considering the pivot element, the array would be partitioned virtually (divided internall around the partition) with a left and right subarrays. The left subarrays would contain all the values smaller than the pivot of the original array, and the right subarray those that are greater than the pivot (done by swapping based on a certain condition). This process is done recrusively (call again on each subarray created),until each sub array either has one or no elements in it."
   ]
  },
  {
   "cell_type": "code",
   "execution_count": 2,
   "metadata": {},
   "outputs": [],
   "source": [
    "def partition(array, low, high):\n",
    "    pivot = array[high] #change based on pivot picking strategy, here it's the very last element\n",
    "    i = low - 1 #specify element that's greater than the pivot\n",
    "    for j in range(low, high):\n",
    "        if array[j] <= pivot: #swap\n",
    "            i += 1\n",
    "            array[i], array[j] = array[j], array[i]\n",
    "\n",
    "    array[i + 1], array[high] = array[high], array[i + 1] #swap pivot with element greater than it\n",
    "    return i + 1\n",
    "\n",
    "    pass\n",
    "\n",
    "def quick_sort_helper(array, high, low):\n",
    "    if low < high:\n",
    "        pivot = partition(array, low, high)\n",
    "        quick_sort(array, low, pivot - 1)\n",
    "        quick_sort(array, pivot + 1, high)\n",
    "\n",
    "\n",
    "def quick_sort(array):\n",
    "    quick_sort_helper(0, len(array) - 1)  "
   ]
  },
  {
   "cell_type": "markdown",
   "metadata": {},
   "source": [
    "## Heap Sort (Recursive)\n",
    "- **Time Complexity**: O($n \\cdot log n$)\n",
    "\n",
    "- **Description**: "
   ]
  },
  {
   "cell_type": "code",
   "execution_count": null,
   "metadata": {},
   "outputs": [],
   "source": []
  },
  {
   "cell_type": "markdown",
   "metadata": {},
   "source": [
    "## Counting Sort (Recursive)\n",
    "- **Time Complexity**: O($n \\cdot log n$)\n",
    "\n",
    "- **Description**: The method is using divide and conquer. It breaks down the array to single elements, sorts them, and merges them back together. The original array is split into two subarrays at the mid-point. Those subarrays are also split into two at their own midpoint. Each one of those subarrays is also split continuouasly and recursively until the array is either empty of contains only one element. The algorithm then begins the mergin process. It merges each split two subarrays in a sorted order by having two pointers, at the head of each subarray, and by proper comparisons build a sorted merge of the two subarrays, until the array is fully sorted from its two subarrays."
   ]
  },
  {
   "cell_type": "code",
   "execution_count": null,
   "metadata": {},
   "outputs": [],
   "source": []
  }
 ],
 "metadata": {
  "kernelspec": {
   "display_name": "Python 3.9.13 64-bit",
   "language": "python",
   "name": "python3"
  },
  "language_info": {
   "codemirror_mode": {
    "name": "ipython",
    "version": 3
   },
   "file_extension": ".py",
   "mimetype": "text/x-python",
   "name": "python",
   "nbconvert_exporter": "python",
   "pygments_lexer": "ipython3",
   "version": "3.9.13"
  },
  "orig_nbformat": 4,
  "vscode": {
   "interpreter": {
    "hash": "b0fa6594d8f4cbf19f97940f81e996739fb7646882a419484c72d19e05852a7e"
   }
  }
 },
 "nbformat": 4,
 "nbformat_minor": 2
}
